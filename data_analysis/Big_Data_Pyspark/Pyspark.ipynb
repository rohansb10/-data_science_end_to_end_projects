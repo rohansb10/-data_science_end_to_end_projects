{
  "nbformat": 4,
  "nbformat_minor": 0,
  "metadata": {
    "colab": {
      "private_outputs": true,
      "provenance": []
    },
    "kernelspec": {
      "name": "python3",
      "display_name": "Python 3"
    },
    "language_info": {
      "name": "python"
    }
  },
  "cells": [
    {
      "cell_type": "code",
      "execution_count": null,
      "metadata": {
        "id": "gynAEAa8JCVP"
      },
      "outputs": [],
      "source": [
        "!pip install pyspark"
      ]
    },
    {
      "cell_type": "code",
      "source": [
        "from pyspark.sql import SparkSession\n",
        "import pandas as pd\n",
        "from pyspark.sql.functions import *"
      ],
      "metadata": {
        "id": "KLyEDTmaJIXL"
      },
      "execution_count": null,
      "outputs": []
    },
    {
      "cell_type": "code",
      "source": [
        "spark = SparkSession.builder.appName('bigdata').getOrCreate()\n",
        "df = spark.read.csv('/content/Salesstore.csv', header=True, inferSchema=True)"
      ],
      "metadata": {
        "id": "3RVkEoFHJMvE"
      },
      "execution_count": null,
      "outputs": []
    },
    {
      "cell_type": "code",
      "source": [
        "df.count()"
      ],
      "metadata": {
        "id": "Zgs1ogUiJpmu"
      },
      "execution_count": null,
      "outputs": []
    },
    {
      "cell_type": "code",
      "source": [
        "df.columns"
      ],
      "metadata": {
        "id": "cw3Ucgd1JsAk"
      },
      "execution_count": null,
      "outputs": []
    },
    {
      "cell_type": "code",
      "source": [
        "df.show(5)"
      ],
      "metadata": {
        "id": "IGsGDEvoJ2Aq"
      },
      "execution_count": null,
      "outputs": []
    },
    {
      "cell_type": "code",
      "source": [
        "df.groupBy('Order_Priority','Sales').sum().show()"
      ],
      "metadata": {
        "id": "YUJ7DxyFJ44r"
      },
      "execution_count": null,
      "outputs": []
    },
    {
      "cell_type": "code",
      "source": [
        "\n",
        "# Top 10 Products by Sales\n",
        "top10_products_by_sales = df.groupBy(\"Product_Name\") \\\n",
        "    .sum(\"Sales\") \\\n",
        "    .withColumnRenamed(\"sum(Sales)\", \"Total_Sales\") \\\n",
        "    .orderBy(desc(\"Total_Sales\")) \\\n",
        "    .limit(10)\n",
        "\n",
        "# Show the result\n",
        "print(\"Top 10 Products by Sales:\")\n",
        "top10_products_by_sales.show()"
      ],
      "metadata": {
        "id": "1q9SXycVKA3M"
      },
      "execution_count": null,
      "outputs": []
    },
    {
      "cell_type": "code",
      "source": [
        "top10_customers_by_profit = df.groupBy(\"Customer_Name\") \\\n",
        "    .sum(\"Profit\") \\\n",
        "    .withColumnRenamed(\"sum(Profit)\", \"Total_Profit\") \\\n",
        "    .orderBy(desc(\"Total_Profit\")) \\\n",
        "    .limit(10)\n",
        "\n",
        "# Show the result\n",
        "print(\"Top 10 Customers by Profit:\")\n",
        "top10_customers_by_profit.show()"
      ],
      "metadata": {
        "id": "Xw30F0cUKutO"
      },
      "execution_count": null,
      "outputs": []
    },
    {
      "cell_type": "code",
      "source": [
        "top10_regions_by_order_quantity = df.groupBy(\"Region\") \\\n",
        "    .sum(\"Order_Quantity\") \\\n",
        "    .withColumnRenamed(\"sum(Order_Quantity)\", \"Total_Quantity\") \\\n",
        "    .orderBy(desc(\"Total_Quantity\")) \\\n",
        "    .limit(10)\n",
        "\n",
        "# Show the result\n",
        "print(\"Top 10 Regions by Order Quantity:\")\n",
        "top10_regions_by_order_quantity.show()\n"
      ],
      "metadata": {
        "id": "ia6BhUKYKukW"
      },
      "execution_count": null,
      "outputs": []
    },
    {
      "cell_type": "code",
      "source": [
        "from pyspark.sql.functions import col, sum\n",
        "\n",
        "# Top 10 products by sales\n",
        "top_products = df.groupBy(\"Product_Name\") \\\n",
        "    .agg(sum(\"Sales\").alias(\"Total_Sales\")) \\\n",
        "    .orderBy(col(\"Total_Sales\").desc()) \\\n",
        "    .limit(10)\n",
        "\n",
        "top_products.show()\n"
      ],
      "metadata": {
        "id": "9GB7p1H5Kufx"
      },
      "execution_count": null,
      "outputs": []
    },
    {
      "cell_type": "code",
      "source": [
        "# Top 10 customers by profit\n",
        "top_customers = df.groupBy(\"Customer_Name\") \\\n",
        "    .agg(sum(\"Profit\").alias(\"Total_Profit\")) \\\n",
        "    .orderBy(col(\"Total_Profit\").desc()) \\\n",
        "    .limit(10)\n",
        "\n",
        "top_customers.show()\n"
      ],
      "metadata": {
        "id": "4SYGbGiXKucj"
      },
      "execution_count": null,
      "outputs": []
    },
    {
      "cell_type": "code",
      "source": [
        "# Top 10 regions by order quantity\n",
        "top_regions = df.groupBy(\"Region\") \\\n",
        "    .agg(sum(\"Order_Quantity\").alias(\"Total_Orders\")) \\\n",
        "    .orderBy(col(\"Total_Orders\").desc()) \\\n",
        "    .limit(10)\n",
        "\n",
        "top_regions.show()\n"
      ],
      "metadata": {
        "id": "DHJ5HFWELDKj"
      },
      "execution_count": null,
      "outputs": []
    },
    {
      "cell_type": "code",
      "source": [
        "# Top 10 customers by order quantity\n",
        "top_customers_orders = df.groupBy(\"Customer_Name\") \\\n",
        "    .agg(sum(\"Order_Quantity\").alias(\"Total_Orders\")) \\\n",
        "    .orderBy(col(\"Total_Orders\").desc()) \\\n",
        "    .limit(10)\n",
        "\n",
        "top_customers_orders.show()\n"
      ],
      "metadata": {
        "id": "MSSyJiQXLF7a"
      },
      "execution_count": null,
      "outputs": []
    },
    {
      "cell_type": "code",
      "source": [
        "# Top 10 product categories by profit\n",
        "top_categories = df.groupBy(\"Product_Category\") \\\n",
        "    .agg(sum(\"Profit\").alias(\"Total_Profit\")) \\\n",
        "    .orderBy(col(\"Total_Profit\").desc()) \\\n",
        "    .limit(10)\n",
        "\n",
        "top_categories.show()\n"
      ],
      "metadata": {
        "id": "4o7-ST8qLF4s"
      },
      "execution_count": null,
      "outputs": []
    },
    {
      "cell_type": "code",
      "source": [
        "# Top 10 product sub-categories by order quantity\n",
        "top_product_subcategories = df.groupBy(\"Product_Sub-Category\") \\\n",
        "    .agg(sum(\"Order_Quantity\").alias(\"Total_Order_Quantity\")) \\\n",
        "    .orderBy(col(\"Total_Order_Quantity\").desc()) \\\n",
        "    .limit(10)\n",
        "\n",
        "top_product_subcategories.show()\n"
      ],
      "metadata": {
        "id": "SNa6QJ62LFza"
      },
      "execution_count": null,
      "outputs": []
    },
    {
      "cell_type": "code",
      "source": [
        "# Top 10 ship modes by profit\n",
        "top_ship_modes = df.groupBy(\"Ship_Mode\") \\\n",
        "    .agg(sum(\"Profit\").alias(\"Total_Profit\")) \\\n",
        "    .orderBy(col(\"Total_Profit\").desc()) \\\n",
        "    .limit(10)\n",
        "\n",
        "top_ship_modes.show()\n"
      ],
      "metadata": {
        "id": "uJFws-RCLFwn"
      },
      "execution_count": null,
      "outputs": []
    },
    {
      "cell_type": "code",
      "source": [
        "df.show(3)"
      ],
      "metadata": {
        "id": "juBKlF2ML5o2"
      },
      "execution_count": null,
      "outputs": []
    },
    {
      "cell_type": "code",
      "source": [
        "correlation = df.select(corr(\"Order_Quantity\", \"Sales\")).collect()[0][0]\n",
        "\n",
        "print(f\"Correlation between Order_Quantity and Sales: {correlation:.4f}\")"
      ],
      "metadata": {
        "id": "dFoqn0DbLFt2"
      },
      "execution_count": null,
      "outputs": []
    },
    {
      "cell_type": "code",
      "source": [
        "spark.stop()"
      ],
      "metadata": {
        "id": "3prTn626L_SI"
      },
      "execution_count": null,
      "outputs": []
    },
    {
      "cell_type": "markdown",
      "source": [
        "### sql"
      ],
      "metadata": {
        "id": "P6uXJWLBNBOd"
      }
    },
    {
      "cell_type": "code",
      "source": [
        "from pyspark.sql import SparkSession\n",
        "\n",
        "spark = SparkSession.builder.appName('bigdata').getOrCreate()\n",
        "df = spark.read.csv('/content/Salesstore.csv', header=True, inferSchema=True)\n",
        "df.createOrReplaceTempView(\"mssql_quries\")\n",
        "\n",
        "# Execute a SQL query on the temporary view\n",
        "sql_query = \"SELECT * FROM mssql_quries\"\n",
        "result_df = spark.sql(sql_query)\n",
        "result_df.show()\n"
      ],
      "metadata": {
        "id": "jhoRtXhzMgR7"
      },
      "execution_count": null,
      "outputs": []
    },
    {
      "cell_type": "code",
      "source": [
        "spark.sql(\n",
        "'''SELECT Region, AVG(Sales) AS Average_Sales, MIN(Sales) AS Min_Sales, MAX(Sales) AS Max_Sales\n",
        "FROM mssql_quries\n",
        "GROUP BY Region;'''\n",
        ").show()"
      ],
      "metadata": {
        "id": "lE29aS_YNEuC"
      },
      "execution_count": null,
      "outputs": []
    },
    {
      "cell_type": "code",
      "source": [
        "spark.sql(\n",
        "'''SELECT Ship_Mode, COUNT(*) AS Count\n",
        "FROM mssql_quries\n",
        "GROUP BY Ship_Mode;'''\n",
        ").show()"
      ],
      "metadata": {
        "id": "iYHcbIKBNbst"
      },
      "execution_count": null,
      "outputs": []
    },
    {
      "cell_type": "code",
      "source": [
        "spark.stop()"
      ],
      "metadata": {
        "id": "dgn-6uEdNsR5"
      },
      "execution_count": null,
      "outputs": []
    }
  ]
}
{
 "cells": [
  {
   "cell_type": "code",
   "execution_count": 1,
   "metadata": {},
   "outputs": [],
   "source": [
    "import pandas as pd\n",
    "import numpy as np\n",
    "import matplotlib.pyplot as plt\n",
    "from sklearn.model_selection import train_test_split"
   ]
  },
  {
   "cell_type": "code",
   "execution_count": 11,
   "metadata": {},
   "outputs": [
    {
     "data": {
      "text/plain": [
       "(8760, 14)"
      ]
     },
     "execution_count": 11,
     "metadata": {},
     "output_type": "execute_result"
    }
   ],
   "source": [
    "df = pd.read_csv(r\"C:\\Users\\Rohan\\rohan ML\\all projects\\github\\-data_science_end_to_end_projects\\data_analysis\\time_series_analysis\\data\\bike_DATA.csv\", encoding='latin-1')\n",
    "df.shape"
   ]
  },
  {
   "cell_type": "code",
   "execution_count": 12,
   "metadata": {},
   "outputs": [
    {
     "data": {
      "text/html": [
       "<div>\n",
       "<style scoped>\n",
       "    .dataframe tbody tr th:only-of-type {\n",
       "        vertical-align: middle;\n",
       "    }\n",
       "\n",
       "    .dataframe tbody tr th {\n",
       "        vertical-align: top;\n",
       "    }\n",
       "\n",
       "    .dataframe thead th {\n",
       "        text-align: right;\n",
       "    }\n",
       "</style>\n",
       "<table border=\"1\" class=\"dataframe\">\n",
       "  <thead>\n",
       "    <tr style=\"text-align: right;\">\n",
       "      <th></th>\n",
       "      <th>Date</th>\n",
       "      <th>Rented Bike Count</th>\n",
       "      <th>Hour</th>\n",
       "      <th>Temperature(°C)</th>\n",
       "      <th>Humidity(%)</th>\n",
       "      <th>Wind speed (m/s)</th>\n",
       "      <th>Visibility (10m)</th>\n",
       "      <th>Dew point temperature(°C)</th>\n",
       "      <th>Solar Radiation (MJ/m2)</th>\n",
       "      <th>Rainfall(mm)</th>\n",
       "      <th>Snowfall (cm)</th>\n",
       "      <th>Seasons</th>\n",
       "      <th>Holiday</th>\n",
       "      <th>Functioning Day</th>\n",
       "    </tr>\n",
       "  </thead>\n",
       "  <tbody>\n",
       "    <tr>\n",
       "      <th>0</th>\n",
       "      <td>01-12-2017</td>\n",
       "      <td>254</td>\n",
       "      <td>0</td>\n",
       "      <td>-5.2</td>\n",
       "      <td>37</td>\n",
       "      <td>2.2</td>\n",
       "      <td>2000</td>\n",
       "      <td>-17.6</td>\n",
       "      <td>0.0</td>\n",
       "      <td>0.0</td>\n",
       "      <td>0.0</td>\n",
       "      <td>Winter</td>\n",
       "      <td>No Holiday</td>\n",
       "      <td>Yes</td>\n",
       "    </tr>\n",
       "    <tr>\n",
       "      <th>1</th>\n",
       "      <td>01-12-2017</td>\n",
       "      <td>204</td>\n",
       "      <td>1</td>\n",
       "      <td>-5.5</td>\n",
       "      <td>38</td>\n",
       "      <td>0.8</td>\n",
       "      <td>2000</td>\n",
       "      <td>-17.6</td>\n",
       "      <td>0.0</td>\n",
       "      <td>0.0</td>\n",
       "      <td>0.0</td>\n",
       "      <td>Winter</td>\n",
       "      <td>No Holiday</td>\n",
       "      <td>Yes</td>\n",
       "    </tr>\n",
       "    <tr>\n",
       "      <th>2</th>\n",
       "      <td>01-12-2017</td>\n",
       "      <td>173</td>\n",
       "      <td>2</td>\n",
       "      <td>-6.0</td>\n",
       "      <td>39</td>\n",
       "      <td>1.0</td>\n",
       "      <td>2000</td>\n",
       "      <td>-17.7</td>\n",
       "      <td>0.0</td>\n",
       "      <td>0.0</td>\n",
       "      <td>0.0</td>\n",
       "      <td>Winter</td>\n",
       "      <td>No Holiday</td>\n",
       "      <td>Yes</td>\n",
       "    </tr>\n",
       "    <tr>\n",
       "      <th>3</th>\n",
       "      <td>01-12-2017</td>\n",
       "      <td>107</td>\n",
       "      <td>3</td>\n",
       "      <td>-6.2</td>\n",
       "      <td>40</td>\n",
       "      <td>0.9</td>\n",
       "      <td>2000</td>\n",
       "      <td>-17.6</td>\n",
       "      <td>0.0</td>\n",
       "      <td>0.0</td>\n",
       "      <td>0.0</td>\n",
       "      <td>Winter</td>\n",
       "      <td>No Holiday</td>\n",
       "      <td>Yes</td>\n",
       "    </tr>\n",
       "    <tr>\n",
       "      <th>4</th>\n",
       "      <td>01-12-2017</td>\n",
       "      <td>78</td>\n",
       "      <td>4</td>\n",
       "      <td>-6.0</td>\n",
       "      <td>36</td>\n",
       "      <td>2.3</td>\n",
       "      <td>2000</td>\n",
       "      <td>-18.6</td>\n",
       "      <td>0.0</td>\n",
       "      <td>0.0</td>\n",
       "      <td>0.0</td>\n",
       "      <td>Winter</td>\n",
       "      <td>No Holiday</td>\n",
       "      <td>Yes</td>\n",
       "    </tr>\n",
       "  </tbody>\n",
       "</table>\n",
       "</div>"
      ],
      "text/plain": [
       "         Date  Rented Bike Count  Hour  Temperature(°C)  Humidity(%)  \\\n",
       "0  01-12-2017                254     0             -5.2           37   \n",
       "1  01-12-2017                204     1             -5.5           38   \n",
       "2  01-12-2017                173     2             -6.0           39   \n",
       "3  01-12-2017                107     3             -6.2           40   \n",
       "4  01-12-2017                 78     4             -6.0           36   \n",
       "\n",
       "   Wind speed (m/s)  Visibility (10m)  Dew point temperature(°C)  \\\n",
       "0               2.2              2000                      -17.6   \n",
       "1               0.8              2000                      -17.6   \n",
       "2               1.0              2000                      -17.7   \n",
       "3               0.9              2000                      -17.6   \n",
       "4               2.3              2000                      -18.6   \n",
       "\n",
       "   Solar Radiation (MJ/m2)  Rainfall(mm)  Snowfall (cm) Seasons     Holiday  \\\n",
       "0                      0.0           0.0            0.0  Winter  No Holiday   \n",
       "1                      0.0           0.0            0.0  Winter  No Holiday   \n",
       "2                      0.0           0.0            0.0  Winter  No Holiday   \n",
       "3                      0.0           0.0            0.0  Winter  No Holiday   \n",
       "4                      0.0           0.0            0.0  Winter  No Holiday   \n",
       "\n",
       "  Functioning Day  \n",
       "0             Yes  \n",
       "1             Yes  \n",
       "2             Yes  \n",
       "3             Yes  \n",
       "4             Yes  "
      ]
     },
     "execution_count": 12,
     "metadata": {},
     "output_type": "execute_result"
    }
   ],
   "source": [
    "df.head()"
   ]
  },
  {
   "cell_type": "code",
   "execution_count": 13,
   "metadata": {},
   "outputs": [
    {
     "data": {
      "text/plain": [
       "Index(['Date', 'Rented Bike Count', 'Hour', 'Temperature(°C)', 'Humidity(%)',\n",
       "       'Wind speed (m/s)', 'Visibility (10m)', 'Dew point temperature(°C)',\n",
       "       'Solar Radiation (MJ/m2)', 'Rainfall(mm)', 'Snowfall (cm)', 'Seasons',\n",
       "       'Holiday', 'Functioning Day'],\n",
       "      dtype='object')"
      ]
     },
     "execution_count": 13,
     "metadata": {},
     "output_type": "execute_result"
    }
   ],
   "source": [
    "df.columns"
   ]
  },
  {
   "cell_type": "code",
   "execution_count": 14,
   "metadata": {},
   "outputs": [
    {
     "data": {
      "text/plain": [
       "0"
      ]
     },
     "execution_count": 14,
     "metadata": {},
     "output_type": "execute_result"
    }
   ],
   "source": [
    "df.isnull().sum().sum()"
   ]
  },
  {
   "cell_type": "code",
   "execution_count": 15,
   "metadata": {},
   "outputs": [
    {
     "data": {
      "text/plain": [
       "0"
      ]
     },
     "execution_count": 15,
     "metadata": {},
     "output_type": "execute_result"
    }
   ],
   "source": [
    "df.duplicated().sum()"
   ]
  },
  {
   "cell_type": "code",
   "execution_count": 16,
   "metadata": {},
   "outputs": [
    {
     "name": "stderr",
     "output_type": "stream",
     "text": [
      "C:\\Users\\Rohan\\AppData\\Local\\Temp\\ipykernel_3596\\1786955853.py:2: UserWarning: Parsing dates in DD/MM/YYYY format when dayfirst=False (the default) was specified. This may lead to inconsistently parsed dates! Specify a format to ensure consistent parsing.\n",
      "  df['Date'] = pd.to_datetime(df['Date'])\n"
     ]
    }
   ],
   "source": [
    "# Convert 'Date' column to datetime and set it as index\n",
    "df['Date'] = pd.to_datetime(df['Date'])\n",
    "df.set_index('Date', inplace=True)\n",
    "\n",
    "# Handle missing values (if any)\n",
    "df.fillna(method='ffill', inplace=True)\n"
   ]
  },
  {
   "cell_type": "code",
   "execution_count": 18,
   "metadata": {},
   "outputs": [
    {
     "data": {
      "image/png": "[encoded data removed]",
      "text/plain": [
       "<Figure size 1200x600 with 1 Axes>"
      ]
     },
     "metadata": {},
     "output_type": "display_data"
    }
   ],
   "source": [
    "# Plot the 'Rented Bike Count' over time\n",
    "plt.figure(figsize=(12, 6))\n",
    "plt.plot(df.index, df['Rented Bike Count'])\n",
    "plt.title('Rented Bike Count Over Time')\n",
    "plt.xlabel('Date')\n",
    "plt.ylabel('Rented Bike Count')\n",
    "plt.show()"
   ]
  },
  {
   "cell_type": "code",
   "execution_count": 19,
   "metadata": {},
   "outputs": [],
   "source": [
    "from sktime.forecasting.model_selection import temporal_train_test_split\n",
    "from sktime.forecasting.theta import ThetaForecaster\n",
    "from sktime.performance_metrics.forecasting import MeanAbsolutePercentageError"
   ]
  },
  {
   "cell_type": "code",
   "execution_count": 26,
   "metadata": {},
   "outputs": [],
   "source": [
    "import pandas as pd\n",
    "import numpy as np\n",
    "import matplotlib.pyplot as plt\n",
    "from sklearn.model_selection import train_test_split\n",
    "from sktime.forecasting.model_selection import temporal_train_test_split\n",
    "from sktime.forecasting.arima import AutoARIMA\n",
    "from sktime.forecasting.base import ForecastingHorizon\n",
    "from sktime.performance_metrics.forecasting import mean_absolute_percentage_error"
   ]
  },
  {
   "cell_type": "code",
   "execution_count": 42,
   "metadata": {},
   "outputs": [
    {
     "data": {
      "text/plain": [
       "(8760, 14)"
      ]
     },
     "execution_count": 42,
     "metadata": {},
     "output_type": "execute_result"
    }
   ],
   "source": [
    "df = pd.read_csv(r\"C:\\Users\\Rohan\\rohan ML\\all projects\\github\\-data_science_end_to_end_projects\\data_analysis\\time_series_analysis\\data\\bike_DATA.csv\", encoding='latin-1')\n",
    "df.shape"
   ]
  },
  {
   "cell_type": "code",
   "execution_count": 43,
   "metadata": {},
   "outputs": [
    {
     "name": "stderr",
     "output_type": "stream",
     "text": [
      "C:\\Users\\Rohan\\AppData\\Local\\Temp\\ipykernel_3596\\2394721818.py:1: UserWarning: Parsing dates in DD/MM/YYYY format when dayfirst=False (the default) was specified. This may lead to inconsistently parsed dates! Specify a format to ensure consistent parsing.\n",
      "  df['Date'] = pd.to_datetime(df['Date'])\n"
     ]
    }
   ],
   "source": [
    "df['Date'] = pd.to_datetime(df['Date'])"
   ]
  },
  {
   "cell_type": "code",
   "execution_count": 44,
   "metadata": {},
   "outputs": [],
   "source": [
    "# Set the 'Date' column as the index\n",
    "df.set_index('Date', inplace=True)\n",
    "\n",
    "# Optionally create new time-based features (e.g., day of the week, month)\n",
    "df['Day_of_Week'] = df.index.dayofweek\n",
    "df['Month'] = df.index.month"
   ]
  },
  {
   "cell_type": "code",
   "execution_count": 45,
   "metadata": {},
   "outputs": [],
   "source": [
    "# Ensure the 'Date' column is unique before setting it as the index\n",
    "df = df.reset_index().drop_duplicates(subset='Date').set_index('Date')\n"
   ]
  },
  {
   "cell_type": "code",
   "execution_count": 46,
   "metadata": {},
   "outputs": [],
   "source": [
    "from sklearn.model_selection import train_test_split\n",
    "\n",
    "# Define the target and features\n",
    "y = df['Rented Bike Count']\n",
    "X = df.drop(columns=['Rented Bike Count'])\n",
    "\n",
    "# Split the data into training and testing sets using scikit-learn\n",
    "X_train, X_test, y_train, y_test = train_test_split(X, y, test_size=0.2, shuffle=False)\n",
    "\n",
    "# Convert y_train and y_test into pandas Series for compatibility with sktime\n",
    "y_train = pd.Series(y_train, index=X_train.index)\n",
    "y_test = pd.Series(y_test, index=X_test.index)\n"
   ]
  },
  {
   "cell_type": "code",
   "execution_count": 47,
   "metadata": {},
   "outputs": [],
   "source": [
    "# Define forecasting horizon using unique time indices\n",
    "fh = ForecastingHorizon(np.arange(len(y_test)), is_relative=True)\n"
   ]
  },
  {
   "cell_type": "code",
   "execution_count": 52,
   "metadata": {},
   "outputs": [],
   "source": [
    "# Ensure y_train and y_test are Series\n",
    "y_train = y_train.squeeze()  # Convert DataFrame to Series\n",
    "y_test = y_test.squeeze()    # Convert DataFrame to Series\n"
   ]
  },
  {
   "cell_type": "code",
   "execution_count": 53,
   "metadata": {},
   "outputs": [
    {
     "ename": "TypeError",
     "evalue": "Unsupported input data type in AutoARIMA, input y must be in an sktime compatible format. Allowed scitypes for y in forecasting are Series, Panel, Hierarchical, for instance a pandas.DataFrame with sktime compatible time indices, or with MultiIndex and last(-1) level an sktime compatible time index. See the forecasting tutorial examples/01_forecasting.ipynb, or the data format tutorial examples/AA_datatypes_and_datasets.ipynb See the data format tutorial examples/AA_datatypes_and_datasets.ipynb. If you think the data is already in an sktime supported input format, run sktime.datatypes.check_raise(data, mtype) to diagnose the error, where mtype is the string of the type specification you want. Error message for checked mtypes, in format [mtype: message], as follows: [pd.DataFrame: y must be a pandas.DataFrame, found <class 'pandas.core.series.Series'>]  [pd.Series: The (time) index of y must be sorted monotonically increasing, but found: DatetimeIndex(['2017-01-12', '2017-02-12', '2017-03-12', '2017-04-12',\n               '2017-05-12', '2017-06-12', '2017-07-12', '2017-08-12',\n               '2017-09-12', '2017-10-12',\n               ...\n               '2018-09-09', '2018-10-09', '2018-11-09', '2018-12-09',\n               '2018-09-13', '2018-09-14', '2018-09-15', '2018-09-16',\n               '2018-09-17', '2018-09-18'],\n              dtype='datetime64[ns]', name='Date', length=292, freq=None)]  [np.ndarray: y must be a numpy.ndarray, found <class 'pandas.core.series.Series'>]  [xr.DataArray: y must be a xarray.DataArray, found <class 'pandas.core.series.Series'>]  [dask_series: y must be a dask DataFrame, found <class 'pandas.core.series.Series'>]  [df-list: y must be list of pd.DataFrame, found <class 'pandas.core.series.Series'>]  [numpy3D: y must be a numpy.ndarray, found <class 'pandas.core.series.Series'>]  [pd-multiindex: y must be a pd.DataFrame, found <class 'pandas.core.series.Series'>]  [nested_univ: y must be a pd.DataFrame, found <class 'pandas.core.series.Series'>]  [dask_panel: y must be a dask DataFrame, found <class 'pandas.core.series.Series'>]  [pd_multiindex_hier: y must be a pd.DataFrame, found <class 'pandas.core.series.Series'>]  [dask_hierarchical: y must be a dask DataFrame, found <class 'pandas.core.series.Series'>] ",
     "output_type": "error",
     "traceback": [
      "\u001b[1;31m---------------------------------------------------------------------------\u001b[0m",
      "\u001b[1;31mTypeError\u001b[0m                                 Traceback (most recent call last)",
      "Cell \u001b[1;32mIn[53], line 5\u001b[0m\n\u001b[0;32m      2\u001b[0m model \u001b[38;5;241m=\u001b[39m AutoARIMA(sp\u001b[38;5;241m=\u001b[39m\u001b[38;5;241m12\u001b[39m, suppress_warnings\u001b[38;5;241m=\u001b[39m\u001b[38;5;28;01mTrue\u001b[39;00m)\n\u001b[0;32m      4\u001b[0m \u001b[38;5;66;03m# Fit the model on the training data\u001b[39;00m\n\u001b[1;32m----> 5\u001b[0m model\u001b[38;5;241m.\u001b[39mfit(y_train, X\u001b[38;5;241m=\u001b[39mX_train)\n\u001b[0;32m      7\u001b[0m \u001b[38;5;66;03m# Generate predictions\u001b[39;00m\n\u001b[0;32m      8\u001b[0m y_pred \u001b[38;5;241m=\u001b[39m model\u001b[38;5;241m.\u001b[39mpredict(fh, X\u001b[38;5;241m=\u001b[39mX_test)\n",
      "File \u001b[1;32mc:\\Users\\Rohan\\anaconda3\\Lib\\site-packages\\sktime\\forecasting\\base\\_base.py:379\u001b[0m, in \u001b[0;36mBaseForecaster.fit\u001b[1;34m(self, y, X, fh)\u001b[0m\n\u001b[0;32m    376\u001b[0m \u001b[38;5;28mself\u001b[39m\u001b[38;5;241m.\u001b[39mreset()\n\u001b[0;32m    378\u001b[0m \u001b[38;5;66;03m# check and convert X/y\u001b[39;00m\n\u001b[1;32m--> 379\u001b[0m X_inner, y_inner \u001b[38;5;241m=\u001b[39m \u001b[38;5;28mself\u001b[39m\u001b[38;5;241m.\u001b[39m_check_X_y(X\u001b[38;5;241m=\u001b[39mX, y\u001b[38;5;241m=\u001b[39my)\n\u001b[0;32m    381\u001b[0m \u001b[38;5;66;03m# set internal X/y to the new X/y\u001b[39;00m\n\u001b[0;32m    382\u001b[0m \u001b[38;5;66;03m# this also updates cutoff from y\u001b[39;00m\n\u001b[0;32m    383\u001b[0m \u001b[38;5;28mself\u001b[39m\u001b[38;5;241m.\u001b[39m_update_y_X(y_inner, X_inner)\n",
      "File \u001b[1;32mc:\\Users\\Rohan\\anaconda3\\Lib\\site-packages\\sktime\\forecasting\\base\\_base.py:1531\u001b[0m, in \u001b[0;36mBaseForecaster._check_X_y\u001b[1;34m(self, X, y)\u001b[0m\n\u001b[0;32m   1522\u001b[0m allowed_msg \u001b[38;5;241m=\u001b[39m (\n\u001b[0;32m   1523\u001b[0m     \u001b[38;5;124m\"\u001b[39m\u001b[38;5;124mAllowed scitypes for y in forecasting are \u001b[39m\u001b[38;5;124m\"\u001b[39m\n\u001b[0;32m   1524\u001b[0m     \u001b[38;5;124mf\u001b[39m\u001b[38;5;124m\"\u001b[39m\u001b[38;5;132;01m{\u001b[39;00m\u001b[38;5;124m'\u001b[39m\u001b[38;5;124m, \u001b[39m\u001b[38;5;124m'\u001b[39m\u001b[38;5;241m.\u001b[39mjoin(ALLOWED_SCITYPES)\u001b[38;5;132;01m}\u001b[39;00m\u001b[38;5;124m, \u001b[39m\u001b[38;5;124m\"\u001b[39m\n\u001b[1;32m   (...)\u001b[0m\n\u001b[0;32m   1528\u001b[0m     \u001b[38;5;124m\"\u001b[39m\u001b[38;5;124m the data format tutorial examples/AA_datatypes_and_datasets.ipynb\u001b[39m\u001b[38;5;124m\"\u001b[39m\n\u001b[0;32m   1529\u001b[0m )\n\u001b[0;32m   1530\u001b[0m \u001b[38;5;28;01mif\u001b[39;00m \u001b[38;5;129;01mnot\u001b[39;00m y_valid:\n\u001b[1;32m-> 1531\u001b[0m     check_is_error_msg(\n\u001b[0;32m   1532\u001b[0m         y_msg,\n\u001b[0;32m   1533\u001b[0m         var_name\u001b[38;5;241m=\u001b[39mmsg_start,\n\u001b[0;32m   1534\u001b[0m         allowed_msg\u001b[38;5;241m=\u001b[39mallowed_msg,\n\u001b[0;32m   1535\u001b[0m         raise_exception\u001b[38;5;241m=\u001b[39m\u001b[38;5;28;01mTrue\u001b[39;00m,\n\u001b[0;32m   1536\u001b[0m     )\n\u001b[0;32m   1538\u001b[0m \u001b[38;5;28;01mif\u001b[39;00m DtypeKind\u001b[38;5;241m.\u001b[39mCATEGORICAL \u001b[38;5;129;01min\u001b[39;00m y_metadata[\u001b[38;5;124m\"\u001b[39m\u001b[38;5;124mfeature_kind\u001b[39m\u001b[38;5;124m\"\u001b[39m]:\n\u001b[0;32m   1539\u001b[0m     \u001b[38;5;28;01mraise\u001b[39;00m \u001b[38;5;167;01mTypeError\u001b[39;00m(\n\u001b[0;32m   1540\u001b[0m         \u001b[38;5;124m\"\u001b[39m\u001b[38;5;124mForecasters do not support categorical features in endogeneous y.\u001b[39m\u001b[38;5;124m\"\u001b[39m\n\u001b[0;32m   1541\u001b[0m     )\n",
      "File \u001b[1;32mc:\\Users\\Rohan\\anaconda3\\Lib\\site-packages\\sktime\\datatypes\\_check.py:508\u001b[0m, in \u001b[0;36mcheck_is_error_msg\u001b[1;34m(msg, var_name, allowed_msg, raise_exception)\u001b[0m\n\u001b[0;32m    505\u001b[0m     msg_invalid_input \u001b[38;5;241m+\u001b[39m\u001b[38;5;241m=\u001b[39m \u001b[38;5;124mf\u001b[39m\u001b[38;5;124m\"\u001b[39m\u001b[38;5;124m [\u001b[39m\u001b[38;5;132;01m{\u001b[39;00mmtype\u001b[38;5;132;01m}\u001b[39;00m\u001b[38;5;124m: \u001b[39m\u001b[38;5;132;01m{\u001b[39;00merr\u001b[38;5;132;01m}\u001b[39;00m\u001b[38;5;124m] \u001b[39m\u001b[38;5;124m\"\u001b[39m\n\u001b[0;32m    507\u001b[0m \u001b[38;5;28;01mif\u001b[39;00m raise_exception \u001b[38;5;129;01mis\u001b[39;00m \u001b[38;5;28;01mTrue\u001b[39;00m:\n\u001b[1;32m--> 508\u001b[0m     \u001b[38;5;28;01mraise\u001b[39;00m \u001b[38;5;167;01mTypeError\u001b[39;00m(msg_invalid_input)\n\u001b[0;32m    509\u001b[0m \u001b[38;5;28;01melif\u001b[39;00m raise_exception \u001b[38;5;129;01mis\u001b[39;00m \u001b[38;5;28;01mFalse\u001b[39;00m:\n\u001b[0;32m    510\u001b[0m     \u001b[38;5;28;01mreturn\u001b[39;00m msg_invalid_input\n",
      "\u001b[1;31mTypeError\u001b[0m: Unsupported input data type in AutoARIMA, input y must be in an sktime compatible format. Allowed scitypes for y in forecasting are Series, Panel, Hierarchical, for instance a pandas.DataFrame with sktime compatible time indices, or with MultiIndex and last(-1) level an sktime compatible time index. See the forecasting tutorial examples/01_forecasting.ipynb, or the data format tutorial examples/AA_datatypes_and_datasets.ipynb See the data format tutorial examples/AA_datatypes_and_datasets.ipynb. If you think the data is already in an sktime supported input format, run sktime.datatypes.check_raise(data, mtype) to diagnose the error, where mtype is the string of the type specification you want. Error message for checked mtypes, in format [mtype: message], as follows: [pd.DataFrame: y must be a pandas.DataFrame, found <class 'pandas.core.series.Series'>]  [pd.Series: The (time) index of y must be sorted monotonically increasing, but found: DatetimeIndex(['2017-01-12', '2017-02-12', '2017-03-12', '2017-04-12',\n               '2017-05-12', '2017-06-12', '2017-07-12', '2017-08-12',\n               '2017-09-12', '2017-10-12',\n               ...\n               '2018-09-09', '2018-10-09', '2018-11-09', '2018-12-09',\n               '2018-09-13', '2018-09-14', '2018-09-15', '2018-09-16',\n               '2018-09-17', '2018-09-18'],\n              dtype='datetime64[ns]', name='Date', length=292, freq=None)]  [np.ndarray: y must be a numpy.ndarray, found <class 'pandas.core.series.Series'>]  [xr.DataArray: y must be a xarray.DataArray, found <class 'pandas.core.series.Series'>]  [dask_series: y must be a dask DataFrame, found <class 'pandas.core.series.Series'>]  [df-list: y must be list of pd.DataFrame, found <class 'pandas.core.series.Series'>]  [numpy3D: y must be a numpy.ndarray, found <class 'pandas.core.series.Series'>]  [pd-multiindex: y must be a pd.DataFrame, found <class 'pandas.core.series.Series'>]  [nested_univ: y must be a pd.DataFrame, found <class 'pandas.core.series.Series'>]  [dask_panel: y must be a dask DataFrame, found <class 'pandas.core.series.Series'>]  [pd_multiindex_hier: y must be a pd.DataFrame, found <class 'pandas.core.series.Series'>]  [dask_hierarchical: y must be a dask DataFrame, found <class 'pandas.core.series.Series'>] "
     ]
    }
   ],
   "source": [
    "# Initialize the model\n",
    "model = AutoARIMA(sp=12, suppress_warnings=True)\n",
    "\n",
    "# Fit the model on the training data\n",
    "model.fit(y_train, X=X_train)\n",
    "\n",
    "# Generate predictions\n",
    "y_pred = model.predict(fh, X=X_test)\n"
   ]
  },
  {
   "cell_type": "code",
   "execution_count": null,
   "metadata": {},
   "outputs": [],
   "source": [
    "# Calculate MAPE\n",
    "mape = mean_absolute_percentage_error(y_test, y_pred)\n",
    "print(f'MAPE: {mape}')\n",
    "\n",
    "# Plot the results\n",
    "plt.figure(figsize=(10, 5))\n",
    "plt.plot(y_train.index, y_train, label='Train')\n",
    "plt.plot(y_test.index, y_test, label='Test')\n",
    "plt.plot(y_test.index, y_pred, label='Predicted')\n",
    "plt.legend()\n",
    "plt.show()\n"
   ]
  },
  {
   "cell_type": "code",
   "execution_count": null,
   "metadata": {},
   "outputs": [],
   "source": [
    "# Plot the actual vs predicted values\n",
    "plt.figure(figsize=(12, 6))\n",
    "plt.plot(y_test.index, y_test, label='Actual')\n",
    "plt.plot(y_test.index, y_pred, label='Predicted')\n",
    "plt.title('Actual vs Predicted Rented Bike Count')\n",
    "plt.xlabel('Date')\n",
    "plt.ylabel('Rented Bike Count')\n",
    "plt.legend()\n",
    "plt.show()"
   ]
  }
 ],
 "metadata": {
  "kernelspec": {
   "display_name": "base",
   "language": "python",
   "name": "python3"
  },
  "language_info": {
   "codemirror_mode": {
    "name": "ipython",
    "version": 3
   },
   "file_extension": ".py",
   "mimetype": "text/x-python",
   "name": "python",
   "nbconvert_exporter": "python",
   "pygments_lexer": "ipython3",
   "version": "3.11.5"
  }
 },
 "nbformat": 4,
 "nbformat_minor": 2
}

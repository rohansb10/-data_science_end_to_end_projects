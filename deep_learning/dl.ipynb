{
 "cells": [
  {
   "cell_type": "code",
   "execution_count": 1,
   "metadata": {},
   "outputs": [],
   "source": [
    "import pandas as pd\n",
    "import numpy as np\n",
    "from sklearn.preprocessing import LabelEncoder"
   ]
  },
  {
   "cell_type": "code",
   "execution_count": 2,
   "metadata": {},
   "outputs": [],
   "source": [
    "df = pd.read_csv(r\"C:\\Users\\Rohan\\rohan ML\\all projects\\github\\-data_science_end_to_end_projects\\data\\Salesstore.csv\")"
   ]
  },
  {
   "cell_type": "code",
   "execution_count": 3,
   "metadata": {},
   "outputs": [
    {
     "data": {
      "text/html": [
       "<div>\n",
       "<style scoped>\n",
       "    .dataframe tbody tr th:only-of-type {\n",
       "        vertical-align: middle;\n",
       "    }\n",
       "\n",
       "    .dataframe tbody tr th {\n",
       "        vertical-align: top;\n",
       "    }\n",
       "\n",
       "    .dataframe thead th {\n",
       "        text-align: right;\n",
       "    }\n",
       "</style>\n",
       "<table border=\"1\" class=\"dataframe\">\n",
       "  <thead>\n",
       "    <tr style=\"text-align: right;\">\n",
       "      <th></th>\n",
       "      <th>Order_ID</th>\n",
       "      <th>Order_Priority</th>\n",
       "      <th>Order_Quantity</th>\n",
       "      <th>Sales</th>\n",
       "      <th>Ship_Mode</th>\n",
       "      <th>Profit</th>\n",
       "      <th>Customer_Name</th>\n",
       "      <th>Region</th>\n",
       "      <th>Customer_Segment</th>\n",
       "      <th>Product_Category</th>\n",
       "      <th>Product_Sub-Category</th>\n",
       "      <th>Product_Name</th>\n",
       "      <th>Product_Container</th>\n",
       "    </tr>\n",
       "  </thead>\n",
       "  <tbody>\n",
       "    <tr>\n",
       "      <th>0</th>\n",
       "      <td>643</td>\n",
       "      <td>High</td>\n",
       "      <td>21</td>\n",
       "      <td>2781.82</td>\n",
       "      <td>Express Air</td>\n",
       "      <td>-695.26</td>\n",
       "      <td>Monica Federle</td>\n",
       "      <td>Nunavut</td>\n",
       "      <td>Corporate</td>\n",
       "      <td>Office Supplies</td>\n",
       "      <td>Storage &amp; Organization</td>\n",
       "      <td>SAFCO Commercial Wire Shelving, Black</td>\n",
       "      <td>Large Box</td>\n",
       "    </tr>\n",
       "    <tr>\n",
       "      <th>1</th>\n",
       "      <td>8995</td>\n",
       "      <td>High</td>\n",
       "      <td>35</td>\n",
       "      <td>3389.93</td>\n",
       "      <td>Express Air</td>\n",
       "      <td>737.94</td>\n",
       "      <td>Beth Paige</td>\n",
       "      <td>Northwest Territories</td>\n",
       "      <td>Consumer</td>\n",
       "      <td>Furniture</td>\n",
       "      <td>Office Furnishings</td>\n",
       "      <td>Luxo Professional Combination Clamp-On Lamps</td>\n",
       "      <td>Large Box</td>\n",
       "    </tr>\n",
       "    <tr>\n",
       "      <th>2</th>\n",
       "      <td>9127</td>\n",
       "      <td>Not Specified</td>\n",
       "      <td>7</td>\n",
       "      <td>2039.56</td>\n",
       "      <td>Express Air</td>\n",
       "      <td>-329.49</td>\n",
       "      <td>Bryan Davis</td>\n",
       "      <td>Northwest Territories</td>\n",
       "      <td>Corporate</td>\n",
       "      <td>Office Supplies</td>\n",
       "      <td>Storage &amp; Organization</td>\n",
       "      <td>Tennsco Snap-Together Open Shelving Units, Sta...</td>\n",
       "      <td>Large Box</td>\n",
       "    </tr>\n",
       "    <tr>\n",
       "      <th>3</th>\n",
       "      <td>26272</td>\n",
       "      <td>Low</td>\n",
       "      <td>6</td>\n",
       "      <td>905.94</td>\n",
       "      <td>Express Air</td>\n",
       "      <td>-4.19</td>\n",
       "      <td>Carlos Daly</td>\n",
       "      <td>Northwest Territories</td>\n",
       "      <td>Home Office</td>\n",
       "      <td>Furniture</td>\n",
       "      <td>Chairs &amp; Chairmats</td>\n",
       "      <td>Hon Olson Stacker Stools</td>\n",
       "      <td>Large Box</td>\n",
       "    </tr>\n",
       "    <tr>\n",
       "      <th>4</th>\n",
       "      <td>36646</td>\n",
       "      <td>Medium</td>\n",
       "      <td>24</td>\n",
       "      <td>1168.15</td>\n",
       "      <td>Express Air</td>\n",
       "      <td>-743.96</td>\n",
       "      <td>Muhammed MacIntyre</td>\n",
       "      <td>Northwest Territories</td>\n",
       "      <td>Small Business</td>\n",
       "      <td>Office Supplies</td>\n",
       "      <td>Storage &amp; Organization</td>\n",
       "      <td>Tennsco Industrial Shelving</td>\n",
       "      <td>Large Box</td>\n",
       "    </tr>\n",
       "  </tbody>\n",
       "</table>\n",
       "</div>"
      ],
      "text/plain": [
       "   Order_ID Order_Priority  Order_Quantity    Sales    Ship_Mode  Profit  \\\n",
       "0       643           High              21  2781.82  Express Air -695.26   \n",
       "1      8995           High              35  3389.93  Express Air  737.94   \n",
       "2      9127  Not Specified               7  2039.56  Express Air -329.49   \n",
       "3     26272            Low               6   905.94  Express Air   -4.19   \n",
       "4     36646         Medium              24  1168.15  Express Air -743.96   \n",
       "\n",
       "        Customer_Name                 Region Customer_Segment  \\\n",
       "0      Monica Federle                Nunavut        Corporate   \n",
       "1          Beth Paige  Northwest Territories         Consumer   \n",
       "2         Bryan Davis  Northwest Territories        Corporate   \n",
       "3         Carlos Daly  Northwest Territories      Home Office   \n",
       "4  Muhammed MacIntyre  Northwest Territories   Small Business   \n",
       "\n",
       "  Product_Category    Product_Sub-Category  \\\n",
       "0  Office Supplies  Storage & Organization   \n",
       "1        Furniture      Office Furnishings   \n",
       "2  Office Supplies  Storage & Organization   \n",
       "3        Furniture      Chairs & Chairmats   \n",
       "4  Office Supplies  Storage & Organization   \n",
       "\n",
       "                                        Product_Name Product_Container  \n",
       "0              SAFCO Commercial Wire Shelving, Black         Large Box  \n",
       "1       Luxo Professional Combination Clamp-On Lamps         Large Box  \n",
       "2  Tennsco Snap-Together Open Shelving Units, Sta...         Large Box  \n",
       "3                           Hon Olson Stacker Stools         Large Box  \n",
       "4                        Tennsco Industrial Shelving         Large Box  "
      ]
     },
     "execution_count": 3,
     "metadata": {},
     "output_type": "execute_result"
    }
   ],
   "source": [
    "df.head()"
   ]
  },
  {
   "cell_type": "code",
   "execution_count": 4,
   "metadata": {},
   "outputs": [],
   "source": [
    "df.drop(columns=[\"Order_ID\",\"Customer_Name\",\"Product_Name\",\"Product_Sub-Category\"],inplace=True)"
   ]
  },
  {
   "cell_type": "code",
   "execution_count": 5,
   "metadata": {},
   "outputs": [
    {
     "data": {
      "text/plain": [
       "(730, 9)"
      ]
     },
     "execution_count": 5,
     "metadata": {},
     "output_type": "execute_result"
    }
   ],
   "source": [
    "df.shape"
   ]
  },
  {
   "cell_type": "code",
   "execution_count": 6,
   "metadata": {},
   "outputs": [
    {
     "name": "stdout",
     "output_type": "stream",
     "text": [
      "DataFrame shape: (730, 9)\n"
     ]
    }
   ],
   "source": [
    "print(\"DataFrame shape:\", df.shape)"
   ]
  },
  {
   "cell_type": "code",
   "execution_count": 7,
   "metadata": {},
   "outputs": [
    {
     "name": "stdout",
     "output_type": "stream",
     "text": [
      "<class 'pandas.core.frame.DataFrame'>\n",
      "RangeIndex: 730 entries, 0 to 729\n",
      "Data columns (total 9 columns):\n",
      " #   Column             Non-Null Count  Dtype  \n",
      "---  ------             --------------  -----  \n",
      " 0   Order_Priority     730 non-null    object \n",
      " 1   Order_Quantity     730 non-null    int64  \n",
      " 2   Sales              730 non-null    float64\n",
      " 3   Ship_Mode          730 non-null    object \n",
      " 4   Profit             730 non-null    float64\n",
      " 5   Region             730 non-null    object \n",
      " 6   Customer_Segment   730 non-null    object \n",
      " 7   Product_Category   730 non-null    object \n",
      " 8   Product_Container  730 non-null    object \n",
      "dtypes: float64(2), int64(1), object(6)\n",
      "memory usage: 51.5+ KB\n"
     ]
    }
   ],
   "source": [
    "df.info()"
   ]
  },
  {
   "cell_type": "code",
   "execution_count": 8,
   "metadata": {},
   "outputs": [
    {
     "data": {
      "text/html": [
       "<div>\n",
       "<style scoped>\n",
       "    .dataframe tbody tr th:only-of-type {\n",
       "        vertical-align: middle;\n",
       "    }\n",
       "\n",
       "    .dataframe tbody tr th {\n",
       "        vertical-align: top;\n",
       "    }\n",
       "\n",
       "    .dataframe thead th {\n",
       "        text-align: right;\n",
       "    }\n",
       "</style>\n",
       "<table border=\"1\" class=\"dataframe\">\n",
       "  <thead>\n",
       "    <tr style=\"text-align: right;\">\n",
       "      <th></th>\n",
       "      <th>Order_Quantity</th>\n",
       "      <th>Sales</th>\n",
       "      <th>Profit</th>\n",
       "    </tr>\n",
       "  </thead>\n",
       "  <tbody>\n",
       "    <tr>\n",
       "      <th>count</th>\n",
       "      <td>730.000000</td>\n",
       "      <td>730.000000</td>\n",
       "      <td>730.000000</td>\n",
       "    </tr>\n",
       "    <tr>\n",
       "      <th>mean</th>\n",
       "      <td>24.857534</td>\n",
       "      <td>1502.777653</td>\n",
       "      <td>207.479233</td>\n",
       "    </tr>\n",
       "    <tr>\n",
       "      <th>std</th>\n",
       "      <td>14.182970</td>\n",
       "      <td>2893.936648</td>\n",
       "      <td>878.631028</td>\n",
       "    </tr>\n",
       "    <tr>\n",
       "      <th>min</th>\n",
       "      <td>1.000000</td>\n",
       "      <td>8.600000</td>\n",
       "      <td>-4437.910000</td>\n",
       "    </tr>\n",
       "    <tr>\n",
       "      <th>25%</th>\n",
       "      <td>13.000000</td>\n",
       "      <td>171.098375</td>\n",
       "      <td>-77.132500</td>\n",
       "    </tr>\n",
       "    <tr>\n",
       "      <th>50%</th>\n",
       "      <td>25.000000</td>\n",
       "      <td>438.700000</td>\n",
       "      <td>0.035000</td>\n",
       "    </tr>\n",
       "    <tr>\n",
       "      <th>75%</th>\n",
       "      <td>37.000000</td>\n",
       "      <td>1480.855000</td>\n",
       "      <td>180.000000</td>\n",
       "    </tr>\n",
       "    <tr>\n",
       "      <th>max</th>\n",
       "      <td>50.000000</td>\n",
       "      <td>27663.920000</td>\n",
       "      <td>8417.570000</td>\n",
       "    </tr>\n",
       "  </tbody>\n",
       "</table>\n",
       "</div>"
      ],
      "text/plain": [
       "       Order_Quantity         Sales       Profit\n",
       "count      730.000000    730.000000   730.000000\n",
       "mean        24.857534   1502.777653   207.479233\n",
       "std         14.182970   2893.936648   878.631028\n",
       "min          1.000000      8.600000 -4437.910000\n",
       "25%         13.000000    171.098375   -77.132500\n",
       "50%         25.000000    438.700000     0.035000\n",
       "75%         37.000000   1480.855000   180.000000\n",
       "max         50.000000  27663.920000  8417.570000"
      ]
     },
     "execution_count": 8,
     "metadata": {},
     "output_type": "execute_result"
    }
   ],
   "source": [
    "df.describe()"
   ]
  },
  {
   "cell_type": "code",
   "execution_count": 9,
   "metadata": {},
   "outputs": [
    {
     "name": "stderr",
     "output_type": "stream",
     "text": [
      "C:\\Users\\Rohan\\AppData\\Local\\Temp\\ipykernel_20356\\1134722465.py:1: FutureWarning: The default value of numeric_only in DataFrame.corr is deprecated. In a future version, it will default to False. Select only valid columns or specify the value of numeric_only to silence this warning.\n",
      "  df.corr()\n"
     ]
    },
    {
     "data": {
      "text/html": [
       "<div>\n",
       "<style scoped>\n",
       "    .dataframe tbody tr th:only-of-type {\n",
       "        vertical-align: middle;\n",
       "    }\n",
       "\n",
       "    .dataframe tbody tr th {\n",
       "        vertical-align: top;\n",
       "    }\n",
       "\n",
       "    .dataframe thead th {\n",
       "        text-align: right;\n",
       "    }\n",
       "</style>\n",
       "<table border=\"1\" class=\"dataframe\">\n",
       "  <thead>\n",
       "    <tr style=\"text-align: right;\">\n",
       "      <th></th>\n",
       "      <th>Order_Quantity</th>\n",
       "      <th>Sales</th>\n",
       "      <th>Profit</th>\n",
       "    </tr>\n",
       "  </thead>\n",
       "  <tbody>\n",
       "    <tr>\n",
       "      <th>Order_Quantity</th>\n",
       "      <td>1.000000</td>\n",
       "      <td>0.204255</td>\n",
       "      <td>0.197149</td>\n",
       "    </tr>\n",
       "    <tr>\n",
       "      <th>Sales</th>\n",
       "      <td>0.204255</td>\n",
       "      <td>1.000000</td>\n",
       "      <td>0.595711</td>\n",
       "    </tr>\n",
       "    <tr>\n",
       "      <th>Profit</th>\n",
       "      <td>0.197149</td>\n",
       "      <td>0.595711</td>\n",
       "      <td>1.000000</td>\n",
       "    </tr>\n",
       "  </tbody>\n",
       "</table>\n",
       "</div>"
      ],
      "text/plain": [
       "                Order_Quantity     Sales    Profit\n",
       "Order_Quantity        1.000000  0.204255  0.197149\n",
       "Sales                 0.204255  1.000000  0.595711\n",
       "Profit                0.197149  0.595711  1.000000"
      ]
     },
     "execution_count": 9,
     "metadata": {},
     "output_type": "execute_result"
    }
   ],
   "source": [
    "df.corr()"
   ]
  },
  {
   "cell_type": "code",
   "execution_count": 10,
   "metadata": {},
   "outputs": [
    {
     "data": {
      "text/html": [
       "<div>\n",
       "<style scoped>\n",
       "    .dataframe tbody tr th:only-of-type {\n",
       "        vertical-align: middle;\n",
       "    }\n",
       "\n",
       "    .dataframe tbody tr th {\n",
       "        vertical-align: top;\n",
       "    }\n",
       "\n",
       "    .dataframe thead th {\n",
       "        text-align: right;\n",
       "    }\n",
       "</style>\n",
       "<table border=\"1\" class=\"dataframe\">\n",
       "  <thead>\n",
       "    <tr style=\"text-align: right;\">\n",
       "      <th></th>\n",
       "      <th>Order_Priority</th>\n",
       "      <th>Order_Quantity</th>\n",
       "      <th>Sales</th>\n",
       "      <th>Ship_Mode</th>\n",
       "      <th>Profit</th>\n",
       "      <th>Region</th>\n",
       "      <th>Customer_Segment</th>\n",
       "      <th>Product_Category</th>\n",
       "      <th>Product_Container</th>\n",
       "    </tr>\n",
       "  </thead>\n",
       "  <tbody>\n",
       "    <tr>\n",
       "      <th>0</th>\n",
       "      <td>High</td>\n",
       "      <td>21</td>\n",
       "      <td>2781.82</td>\n",
       "      <td>Express Air</td>\n",
       "      <td>-695.26</td>\n",
       "      <td>Nunavut</td>\n",
       "      <td>Corporate</td>\n",
       "      <td>Office Supplies</td>\n",
       "      <td>Large Box</td>\n",
       "    </tr>\n",
       "    <tr>\n",
       "      <th>1</th>\n",
       "      <td>High</td>\n",
       "      <td>35</td>\n",
       "      <td>3389.93</td>\n",
       "      <td>Express Air</td>\n",
       "      <td>737.94</td>\n",
       "      <td>Northwest Territories</td>\n",
       "      <td>Consumer</td>\n",
       "      <td>Furniture</td>\n",
       "      <td>Large Box</td>\n",
       "    </tr>\n",
       "    <tr>\n",
       "      <th>2</th>\n",
       "      <td>Not Specified</td>\n",
       "      <td>7</td>\n",
       "      <td>2039.56</td>\n",
       "      <td>Express Air</td>\n",
       "      <td>-329.49</td>\n",
       "      <td>Northwest Territories</td>\n",
       "      <td>Corporate</td>\n",
       "      <td>Office Supplies</td>\n",
       "      <td>Large Box</td>\n",
       "    </tr>\n",
       "  </tbody>\n",
       "</table>\n",
       "</div>"
      ],
      "text/plain": [
       "  Order_Priority  Order_Quantity    Sales    Ship_Mode  Profit  \\\n",
       "0           High              21  2781.82  Express Air -695.26   \n",
       "1           High              35  3389.93  Express Air  737.94   \n",
       "2  Not Specified               7  2039.56  Express Air -329.49   \n",
       "\n",
       "                  Region Customer_Segment Product_Category Product_Container  \n",
       "0                Nunavut        Corporate  Office Supplies         Large Box  \n",
       "1  Northwest Territories         Consumer        Furniture         Large Box  \n",
       "2  Northwest Territories        Corporate  Office Supplies         Large Box  "
      ]
     },
     "execution_count": 10,
     "metadata": {},
     "output_type": "execute_result"
    }
   ],
   "source": [
    "df.head(3)"
   ]
  },
  {
   "cell_type": "code",
   "execution_count": 11,
   "metadata": {},
   "outputs": [],
   "source": [
    "df.to_csv(r'C:\\Users\\Rohan\\rohan ML\\all projects\\github\\-data_science_end_to_end_projects\\data\\preprocess_data\\final.csv', index=False)\n"
   ]
  },
  {
   "cell_type": "code",
   "execution_count": 12,
   "metadata": {},
   "outputs": [
    {
     "name": "stdout",
     "output_type": "stream",
     "text": [
      "duplicated : 0\n",
      " -  -  -  -  -  -  -  -  -  - \n",
      "null values : 0\n"
     ]
    }
   ],
   "source": [
    "print('duplicated :',df.duplicated().sum())\n",
    "print(\" - \"*10)\n",
    "print('null values :',df.isnull().sum().sum())"
   ]
  },
  {
   "cell_type": "code",
   "execution_count": 13,
   "metadata": {},
   "outputs": [
    {
     "data": {
      "text/html": [
       "<div>\n",
       "<style scoped>\n",
       "    .dataframe tbody tr th:only-of-type {\n",
       "        vertical-align: middle;\n",
       "    }\n",
       "\n",
       "    .dataframe tbody tr th {\n",
       "        vertical-align: top;\n",
       "    }\n",
       "\n",
       "    .dataframe thead th {\n",
       "        text-align: right;\n",
       "    }\n",
       "</style>\n",
       "<table border=\"1\" class=\"dataframe\">\n",
       "  <thead>\n",
       "    <tr style=\"text-align: right;\">\n",
       "      <th></th>\n",
       "      <th>max</th>\n",
       "      <th>sum</th>\n",
       "    </tr>\n",
       "    <tr>\n",
       "      <th>Product_Category</th>\n",
       "      <th></th>\n",
       "      <th></th>\n",
       "    </tr>\n",
       "  </thead>\n",
       "  <tbody>\n",
       "    <tr>\n",
       "      <th>Technology</th>\n",
       "      <td>7416.43</td>\n",
       "      <td>81368.05</td>\n",
       "    </tr>\n",
       "    <tr>\n",
       "      <th>Office Supplies</th>\n",
       "      <td>8417.57</td>\n",
       "      <td>53073.95</td>\n",
       "    </tr>\n",
       "    <tr>\n",
       "      <th>Furniture</th>\n",
       "      <td>3387.35</td>\n",
       "      <td>17017.84</td>\n",
       "    </tr>\n",
       "  </tbody>\n",
       "</table>\n",
       "</div>"
      ],
      "text/plain": [
       "                      max       sum\n",
       "Product_Category                   \n",
       "Technology        7416.43  81368.05\n",
       "Office Supplies   8417.57  53073.95\n",
       "Furniture         3387.35  17017.84"
      ]
     },
     "execution_count": 13,
     "metadata": {},
     "output_type": "execute_result"
    }
   ],
   "source": [
    "df.groupby(\"Product_Category\")[\"Profit\"].agg([\"max\",\"sum\"]).sort_values(\"sum\",ascending=False)"
   ]
  },
  {
   "cell_type": "code",
   "execution_count": 14,
   "metadata": {},
   "outputs": [
    {
     "data": {
      "text/plain": [
       "Office Supplies    447\n",
       "Technology         185\n",
       "Furniture           98\n",
       "Name: Product_Category, dtype: int64"
      ]
     },
     "execution_count": 14,
     "metadata": {},
     "output_type": "execute_result"
    }
   ],
   "source": [
    "df['Product_Category'].value_counts()"
   ]
  },
  {
   "cell_type": "code",
   "execution_count": 15,
   "metadata": {},
   "outputs": [],
   "source": [
    "pd.set_option('display.max_columns', 100)"
   ]
  },
  {
   "cell_type": "code",
   "execution_count": 16,
   "metadata": {},
   "outputs": [],
   "source": [
    "pd.set_option('display.max_rows', 100)"
   ]
  },
  {
   "cell_type": "code",
   "execution_count": 17,
   "metadata": {},
   "outputs": [
    {
     "name": "stdout",
     "output_type": "stream",
     "text": [
      "Column name: Order_Priority\n",
      "               \n",
      "Not Specified    156\n",
      "High             152\n",
      "Low              147\n",
      "Critical         147\n",
      "Medium           128\n",
      "Name: Order_Priority, dtype: int64\n",
      " -  -  -  -  -  -  -  -  -  -  -  -  -  -  - \n",
      "Column name: Ship_Mode\n",
      "               \n",
      "Regular Air    579\n",
      "Express Air    151\n",
      "Name: Ship_Mode, dtype: int64\n",
      " -  -  -  -  -  -  -  -  -  -  -  -  -  -  - \n",
      "Column name: Region\n",
      "               \n",
      "West                     232\n",
      "Atlantic                 170\n",
      "Northwest Territories    150\n",
      "Prarie                    79\n",
      "Ontario                   67\n",
      "Nunavut                   32\n",
      "Name: Region, dtype: int64\n",
      " -  -  -  -  -  -  -  -  -  -  -  -  -  -  - \n",
      "Column name: Customer_Segment\n",
      "               \n",
      "Corporate         518\n",
      "Consumer          153\n",
      "Home Office        31\n",
      "Small Business     28\n",
      "Name: Customer_Segment, dtype: int64\n",
      " -  -  -  -  -  -  -  -  -  -  -  -  -  -  - \n",
      "Column name: Product_Category\n",
      "               \n",
      "Office Supplies    447\n",
      "Technology         185\n",
      "Furniture           98\n",
      "Name: Product_Category, dtype: int64\n",
      " -  -  -  -  -  -  -  -  -  -  -  -  -  -  - \n",
      "Column name: Product_Container\n",
      "               \n",
      "Small Box     606\n",
      "Large Box      63\n",
      "Medium Box     61\n",
      "Name: Product_Container, dtype: int64\n",
      " -  -  -  -  -  -  -  -  -  -  -  -  -  -  - \n"
     ]
    }
   ],
   "source": [
    "valuecounts_col = df.select_dtypes(include=['object']).columns\n",
    "\n",
    "for value in valuecounts_col:\n",
    "    a = df[value].value_counts()\n",
    "    print('Column name:', value)\n",
    "    print(' ' * 15)\n",
    "    print(a)\n",
    "    print(' - ' * 15)"
   ]
  },
  {
   "cell_type": "code",
   "execution_count": 18,
   "metadata": {},
   "outputs": [],
   "source": [
    "# label_encoder = LabelEncoder()\n",
    "# for column in df.select_dtypes(include=['object']).columns:\n",
    "#     df[column] = label_encoder.fit_transform(df[column])"
   ]
  },
  {
   "cell_type": "code",
   "execution_count": 19,
   "metadata": {},
   "outputs": [],
   "source": [
    "categorical_cols = df.select_dtypes(include=['object']).columns\n",
    "\n",
    "mappings = {\n",
    "    'Order_Priority': {'Not Specified': 0, 'High': 1, 'Low': 2, 'Critical': 3, 'Medium': 4},\n",
    "    'Ship_Mode': {'Regular Air': 0, 'Express Air': 1},\n",
    "    'Region': {'West': 0, 'Atlantic': 1, 'Northwest Territories': 2, 'Prarie': 3, 'Ontario': 4, 'Nunavut': 5},\n",
    "    'Customer_Segment': {'Corporate': 0, 'Consumer': 1, 'Home Office': 2, 'Small Business': 3},\n",
    "    'Product_Category': {'Office Supplies': 0, 'Technology': 1, 'Furniture': 2},\n",
    "    'Product_Container': {'Small Box': 0, 'Large Box': 1, 'Medium Box': 2}\n",
    "}\n",
    "\n",
    "# Apply the mappings to each column\n",
    "for col in categorical_cols:\n",
    "    df[col] = df[col].map(mappings[col])"
   ]
  },
  {
   "cell_type": "code",
   "execution_count": 20,
   "metadata": {},
   "outputs": [
    {
     "data": {
      "text/html": [
       "<div>\n",
       "<style scoped>\n",
       "    .dataframe tbody tr th:only-of-type {\n",
       "        vertical-align: middle;\n",
       "    }\n",
       "\n",
       "    .dataframe tbody tr th {\n",
       "        vertical-align: top;\n",
       "    }\n",
       "\n",
       "    .dataframe thead th {\n",
       "        text-align: right;\n",
       "    }\n",
       "</style>\n",
       "<table border=\"1\" class=\"dataframe\">\n",
       "  <thead>\n",
       "    <tr style=\"text-align: right;\">\n",
       "      <th></th>\n",
       "      <th>Order_Priority</th>\n",
       "      <th>Order_Quantity</th>\n",
       "      <th>Sales</th>\n",
       "      <th>Ship_Mode</th>\n",
       "      <th>Profit</th>\n",
       "      <th>Region</th>\n",
       "      <th>Customer_Segment</th>\n",
       "      <th>Product_Category</th>\n",
       "      <th>Product_Container</th>\n",
       "    </tr>\n",
       "  </thead>\n",
       "  <tbody>\n",
       "    <tr>\n",
       "      <th>0</th>\n",
       "      <td>1</td>\n",
       "      <td>21</td>\n",
       "      <td>2781.82</td>\n",
       "      <td>1</td>\n",
       "      <td>-695.26</td>\n",
       "      <td>5</td>\n",
       "      <td>0</td>\n",
       "      <td>0</td>\n",
       "      <td>1</td>\n",
       "    </tr>\n",
       "    <tr>\n",
       "      <th>1</th>\n",
       "      <td>1</td>\n",
       "      <td>35</td>\n",
       "      <td>3389.93</td>\n",
       "      <td>1</td>\n",
       "      <td>737.94</td>\n",
       "      <td>2</td>\n",
       "      <td>1</td>\n",
       "      <td>2</td>\n",
       "      <td>1</td>\n",
       "    </tr>\n",
       "    <tr>\n",
       "      <th>2</th>\n",
       "      <td>0</td>\n",
       "      <td>7</td>\n",
       "      <td>2039.56</td>\n",
       "      <td>1</td>\n",
       "      <td>-329.49</td>\n",
       "      <td>2</td>\n",
       "      <td>0</td>\n",
       "      <td>0</td>\n",
       "      <td>1</td>\n",
       "    </tr>\n",
       "    <tr>\n",
       "      <th>3</th>\n",
       "      <td>2</td>\n",
       "      <td>6</td>\n",
       "      <td>905.94</td>\n",
       "      <td>1</td>\n",
       "      <td>-4.19</td>\n",
       "      <td>2</td>\n",
       "      <td>2</td>\n",
       "      <td>2</td>\n",
       "      <td>1</td>\n",
       "    </tr>\n",
       "    <tr>\n",
       "      <th>4</th>\n",
       "      <td>4</td>\n",
       "      <td>24</td>\n",
       "      <td>1168.15</td>\n",
       "      <td>1</td>\n",
       "      <td>-743.96</td>\n",
       "      <td>2</td>\n",
       "      <td>3</td>\n",
       "      <td>0</td>\n",
       "      <td>1</td>\n",
       "    </tr>\n",
       "  </tbody>\n",
       "</table>\n",
       "</div>"
      ],
      "text/plain": [
       "   Order_Priority  Order_Quantity    Sales  Ship_Mode  Profit  Region  \\\n",
       "0               1              21  2781.82          1 -695.26       5   \n",
       "1               1              35  3389.93          1  737.94       2   \n",
       "2               0               7  2039.56          1 -329.49       2   \n",
       "3               2               6   905.94          1   -4.19       2   \n",
       "4               4              24  1168.15          1 -743.96       2   \n",
       "\n",
       "   Customer_Segment  Product_Category  Product_Container  \n",
       "0                 0                 0                  1  \n",
       "1                 1                 2                  1  \n",
       "2                 0                 0                  1  \n",
       "3                 2                 2                  1  \n",
       "4                 3                 0                  1  "
      ]
     },
     "execution_count": 20,
     "metadata": {},
     "output_type": "execute_result"
    }
   ],
   "source": [
    "df.head()"
   ]
  },
  {
   "cell_type": "code",
   "execution_count": 33,
   "metadata": {},
   "outputs": [],
   "source": [
    "df.to_csv(r'C:\\Users\\Rohan\\rohan ML\\all projects\\github\\-data_science_end_to_end_projects\\data\\preprocess_data\\after_labels.csv', index=False)"
   ]
  },
  {
   "cell_type": "code",
   "execution_count": 34,
   "metadata": {},
   "outputs": [
    {
     "name": "stdout",
     "output_type": "stream",
     "text": [
      "<class 'pandas.core.frame.DataFrame'>\n",
      "RangeIndex: 730 entries, 0 to 729\n",
      "Data columns (total 9 columns):\n",
      " #   Column             Non-Null Count  Dtype  \n",
      "---  ------             --------------  -----  \n",
      " 0   Order_Priority     730 non-null    int64  \n",
      " 1   Order_Quantity     730 non-null    int64  \n",
      " 2   Sales              730 non-null    float64\n",
      " 3   Ship_Mode          730 non-null    int64  \n",
      " 4   Profit             730 non-null    float64\n",
      " 5   Region             730 non-null    int64  \n",
      " 6   Customer_Segment   730 non-null    int64  \n",
      " 7   Product_Category   730 non-null    int64  \n",
      " 8   Product_Container  730 non-null    int64  \n",
      "dtypes: float64(2), int64(7)\n",
      "memory usage: 51.5 KB\n"
     ]
    }
   ],
   "source": [
    "df.info()"
   ]
  },
  {
   "cell_type": "code",
   "execution_count": 21,
   "metadata": {},
   "outputs": [],
   "source": [
    "# df['Order_Priority'].astype(float)"
   ]
  },
  {
   "cell_type": "markdown",
   "metadata": {},
   "source": [
    "#### Check for Outliers: If your data contains outliers, Robust scaling might be a good choice.\n",
    "#### Algorithm Requirements: If you are using algorithms that assume normally distributed data (e.g., linear regression), Standard scaling is often preferred.\n",
    "#### Feature Range: If your algorithm requires bounded input (e.g., neural networks), Min-Max scaling is appropriate."
   ]
  },
  {
   "cell_type": "markdown",
   "metadata": {},
   "source": []
  },
  {
   "cell_type": "code",
   "execution_count": 22,
   "metadata": {},
   "outputs": [
    {
     "data": {
      "text/plain": [
       "<Figure size 1200x600 with 0 Axes>"
      ]
     },
     "metadata": {},
     "output_type": "display_data"
    },
    {
     "data": {
      "image/png": "[encoded data removed]",
      "text/plain": [
       "<Figure size 640x480 with 1 Axes>"
      ]
     },
     "metadata": {},
     "output_type": "display_data"
    },
    {
     "data": {
      "image/png": "[encoded data removed]",
      "text/plain": [
       "<Figure size 640x480 with 1 Axes>"
      ]
     },
     "metadata": {},
     "output_type": "display_data"
    },
    {
     "data": {
      "image/png": "[encoded data removed]",
      "text/plain": [
       "<Figure size 640x480 with 1 Axes>"
      ]
     },
     "metadata": {},
     "output_type": "display_data"
    },
    {
     "data": {
      "image/png": "[encoded data removed]",
      "text/plain": [
       "<Figure size 640x480 with 1 Axes>"
      ]
     },
     "metadata": {},
     "output_type": "display_data"
    },
    {
     "data": {
      "image/png": "[encoded data removed]",
      "text/plain": [
       "<Figure size 640x480 with 1 Axes>"
      ]
     },
     "metadata": {},
     "output_type": "display_data"
    },
    {
     "data": {
      "image/png": "[encoded data removed]",
      "text/plain": [
       "<Figure size 640x480 with 1 Axes>"
      ]
     },
     "metadata": {},
     "output_type": "display_data"
    },
    {
     "data": {
      "image/png": "[encoded data removed]",
      "text/plain": [
       "<Figure size 640x480 with 1 Axes>"
      ]
     },
     "metadata": {},
     "output_type": "display_data"
    },
    {
     "data": {
      "image/png": "[encoded data removed]",
      "text/plain": [
       "<Figure size 640x480 with 1 Axes>"
      ]
     },
     "metadata": {},
     "output_type": "display_data"
    },
    {
     "data": {
      "image/png": "[encoded data removed]",
      "text/plain": [
       "<Figure size 640x480 with 1 Axes>"
      ]
     },
     "metadata": {},
     "output_type": "display_data"
    }
   ],
   "source": [
    "import matplotlib.pyplot as plt\n",
    "import seaborn as sns\n",
    "\n",
    "num_col = df.select_dtypes(include=['int', 'float']).columns\n",
    "\n",
    "plt.figure(figsize=(12, 6))\n",
    "\n",
    "for col in num_col:\n",
    "    plt.figure()  \n",
    "    sns.boxplot(x=df[col])\n",
    "    plt.title(f'Box Plot of {col}')\n",
    "    plt.show()"
   ]
  },
  {
   "cell_type": "code",
   "execution_count": 23,
   "metadata": {},
   "outputs": [
    {
     "data": {
      "text/html": [
       "<div>\n",
       "<style scoped>\n",
       "    .dataframe tbody tr th:only-of-type {\n",
       "        vertical-align: middle;\n",
       "    }\n",
       "\n",
       "    .dataframe tbody tr th {\n",
       "        vertical-align: top;\n",
       "    }\n",
       "\n",
       "    .dataframe thead th {\n",
       "        text-align: right;\n",
       "    }\n",
       "</style>\n",
       "<table border=\"1\" class=\"dataframe\">\n",
       "  <thead>\n",
       "    <tr style=\"text-align: right;\">\n",
       "      <th></th>\n",
       "      <th>Order_Priority</th>\n",
       "      <th>Order_Quantity</th>\n",
       "      <th>Sales</th>\n",
       "      <th>Ship_Mode</th>\n",
       "      <th>Profit</th>\n",
       "      <th>Region</th>\n",
       "      <th>Customer_Segment</th>\n",
       "      <th>Product_Category</th>\n",
       "      <th>Product_Container</th>\n",
       "    </tr>\n",
       "  </thead>\n",
       "  <tbody>\n",
       "    <tr>\n",
       "      <th>0</th>\n",
       "      <td>1</td>\n",
       "      <td>21</td>\n",
       "      <td>2781.82</td>\n",
       "      <td>1</td>\n",
       "      <td>-695.26</td>\n",
       "      <td>5</td>\n",
       "      <td>0</td>\n",
       "      <td>0</td>\n",
       "      <td>1</td>\n",
       "    </tr>\n",
       "    <tr>\n",
       "      <th>1</th>\n",
       "      <td>1</td>\n",
       "      <td>35</td>\n",
       "      <td>3389.93</td>\n",
       "      <td>1</td>\n",
       "      <td>737.94</td>\n",
       "      <td>2</td>\n",
       "      <td>1</td>\n",
       "      <td>2</td>\n",
       "      <td>1</td>\n",
       "    </tr>\n",
       "    <tr>\n",
       "      <th>2</th>\n",
       "      <td>0</td>\n",
       "      <td>7</td>\n",
       "      <td>2039.56</td>\n",
       "      <td>1</td>\n",
       "      <td>-329.49</td>\n",
       "      <td>2</td>\n",
       "      <td>0</td>\n",
       "      <td>0</td>\n",
       "      <td>1</td>\n",
       "    </tr>\n",
       "    <tr>\n",
       "      <th>3</th>\n",
       "      <td>2</td>\n",
       "      <td>6</td>\n",
       "      <td>905.94</td>\n",
       "      <td>1</td>\n",
       "      <td>-4.19</td>\n",
       "      <td>2</td>\n",
       "      <td>2</td>\n",
       "      <td>2</td>\n",
       "      <td>1</td>\n",
       "    </tr>\n",
       "    <tr>\n",
       "      <th>4</th>\n",
       "      <td>4</td>\n",
       "      <td>24</td>\n",
       "      <td>1168.15</td>\n",
       "      <td>1</td>\n",
       "      <td>-743.96</td>\n",
       "      <td>2</td>\n",
       "      <td>3</td>\n",
       "      <td>0</td>\n",
       "      <td>1</td>\n",
       "    </tr>\n",
       "  </tbody>\n",
       "</table>\n",
       "</div>"
      ],
      "text/plain": [
       "   Order_Priority  Order_Quantity    Sales  Ship_Mode  Profit  Region  \\\n",
       "0               1              21  2781.82          1 -695.26       5   \n",
       "1               1              35  3389.93          1  737.94       2   \n",
       "2               0               7  2039.56          1 -329.49       2   \n",
       "3               2               6   905.94          1   -4.19       2   \n",
       "4               4              24  1168.15          1 -743.96       2   \n",
       "\n",
       "   Customer_Segment  Product_Category  Product_Container  \n",
       "0                 0                 0                  1  \n",
       "1                 1                 2                  1  \n",
       "2                 0                 0                  1  \n",
       "3                 2                 2                  1  \n",
       "4                 3                 0                  1  "
      ]
     },
     "execution_count": 23,
     "metadata": {},
     "output_type": "execute_result"
    }
   ],
   "source": [
    "df.head()"
   ]
  },
  {
   "cell_type": "code",
   "execution_count": 24,
   "metadata": {},
   "outputs": [
    {
     "data": {
      "text/plain": [
       "Index(['Order_Priority', 'Order_Quantity', 'Sales', 'Ship_Mode', 'Profit',\n",
       "       'Region', 'Customer_Segment', 'Product_Category', 'Product_Container'],\n",
       "      dtype='object')"
      ]
     },
     "execution_count": 24,
     "metadata": {},
     "output_type": "execute_result"
    }
   ],
   "source": [
    "df.columns"
   ]
  },
  {
   "cell_type": "code",
   "execution_count": 25,
   "metadata": {},
   "outputs": [],
   "source": [
    "# from sklearn.preprocessing import RobustScaler\n",
    "# numerical_cols = ['Order_Priority', 'Order_Quantity', 'Sales', 'Ship_Mode', \n",
    "#        'Region', 'Customer_Segment', 'Product_Category', 'Product_Container']\n",
    "\n",
    "# # Apply RobustScaler to the selected numerical columns\n",
    "# robust_scaler = RobustScaler()\n",
    "# df[numerical_cols] = robust_scaler.fit_transform(df[numerical_cols])"
   ]
  },
  {
   "cell_type": "code",
   "execution_count": 26,
   "metadata": {},
   "outputs": [],
   "source": [
    "from sklearn.preprocessing import RobustScaler,StandardScaler\n",
    "\n",
    "robust_scaler = RobustScaler() \n",
    "df['Sales'] = robust_scaler.fit_transform(df[['Sales']])\n",
    "# df['Order_Quantity'] = robust_scaler.fit_transform(df[['Order_Quantity']])\n"
   ]
  },
  {
   "cell_type": "code",
   "execution_count": 27,
   "metadata": {},
   "outputs": [
    {
     "name": "stdout",
     "output_type": "stream",
     "text": [
      "X_train shape: (657, 8)\n",
      "X_test shape: (73, 8)\n",
      "y_train shape: (657,)\n",
      "y_test shape: (73,)\n"
     ]
    }
   ],
   "source": [
    "from sklearn.model_selection import train_test_split\n",
    "\n",
    "X = df.drop(columns='Profit')\n",
    "y = df['Profit']\n",
    "\n",
    "X_train, X_test, y_train, y_test = train_test_split(X, y, test_size=0.1, random_state=42)\n",
    "\n",
    "print(\"X_train shape:\", X_train.shape)\n",
    "print(\"X_test shape:\", X_test.shape)\n",
    "print(\"y_train shape:\", y_train.shape)\n",
    "print(\"y_test shape:\", y_test.shape)"
   ]
  },
  {
   "cell_type": "code",
   "execution_count": 28,
   "metadata": {},
   "outputs": [
    {
     "data": {
      "text/html": [
       "<div>\n",
       "<style scoped>\n",
       "    .dataframe tbody tr th:only-of-type {\n",
       "        vertical-align: middle;\n",
       "    }\n",
       "\n",
       "    .dataframe tbody tr th {\n",
       "        vertical-align: top;\n",
       "    }\n",
       "\n",
       "    .dataframe thead th {\n",
       "        text-align: right;\n",
       "    }\n",
       "</style>\n",
       "<table border=\"1\" class=\"dataframe\">\n",
       "  <thead>\n",
       "    <tr style=\"text-align: right;\">\n",
       "      <th></th>\n",
       "      <th>Order_Priority</th>\n",
       "      <th>Order_Quantity</th>\n",
       "      <th>Sales</th>\n",
       "      <th>Ship_Mode</th>\n",
       "      <th>Region</th>\n",
       "      <th>Customer_Segment</th>\n",
       "      <th>Product_Category</th>\n",
       "      <th>Product_Container</th>\n",
       "    </tr>\n",
       "  </thead>\n",
       "  <tbody>\n",
       "    <tr>\n",
       "      <th>97</th>\n",
       "      <td>1</td>\n",
       "      <td>47</td>\n",
       "      <td>0.474409</td>\n",
       "      <td>0</td>\n",
       "      <td>2</td>\n",
       "      <td>0</td>\n",
       "      <td>1</td>\n",
       "      <td>2</td>\n",
       "    </tr>\n",
       "    <tr>\n",
       "      <th>568</th>\n",
       "      <td>3</td>\n",
       "      <td>16</td>\n",
       "      <td>-0.279915</td>\n",
       "      <td>0</td>\n",
       "      <td>0</td>\n",
       "      <td>0</td>\n",
       "      <td>0</td>\n",
       "      <td>0</td>\n",
       "    </tr>\n",
       "    <tr>\n",
       "      <th>409</th>\n",
       "      <td>0</td>\n",
       "      <td>2</td>\n",
       "      <td>0.267462</td>\n",
       "      <td>0</td>\n",
       "      <td>2</td>\n",
       "      <td>0</td>\n",
       "      <td>0</td>\n",
       "      <td>0</td>\n",
       "    </tr>\n",
       "    <tr>\n",
       "      <th>23</th>\n",
       "      <td>4</td>\n",
       "      <td>34</td>\n",
       "      <td>1.793723</td>\n",
       "      <td>0</td>\n",
       "      <td>1</td>\n",
       "      <td>1</td>\n",
       "      <td>0</td>\n",
       "      <td>1</td>\n",
       "    </tr>\n",
       "    <tr>\n",
       "      <th>223</th>\n",
       "      <td>0</td>\n",
       "      <td>39</td>\n",
       "      <td>0.535641</td>\n",
       "      <td>1</td>\n",
       "      <td>3</td>\n",
       "      <td>0</td>\n",
       "      <td>2</td>\n",
       "      <td>0</td>\n",
       "    </tr>\n",
       "  </tbody>\n",
       "</table>\n",
       "</div>"
      ],
      "text/plain": [
       "     Order_Priority  Order_Quantity     Sales  Ship_Mode  Region  \\\n",
       "97                1              47  0.474409          0       2   \n",
       "568               3              16 -0.279915          0       0   \n",
       "409               0               2  0.267462          0       2   \n",
       "23                4              34  1.793723          0       1   \n",
       "223               0              39  0.535641          1       3   \n",
       "\n",
       "     Customer_Segment  Product_Category  Product_Container  \n",
       "97                  0                 1                  2  \n",
       "568                 0                 0                  0  \n",
       "409                 0                 0                  0  \n",
       "23                  1                 0                  1  \n",
       "223                 0                 2                  0  "
      ]
     },
     "execution_count": 28,
     "metadata": {},
     "output_type": "execute_result"
    }
   ],
   "source": [
    "X_train.head()"
   ]
  },
  {
   "cell_type": "code",
   "execution_count": 37,
   "metadata": {},
   "outputs": [
    {
     "data": {
      "text/plain": [
       "0"
      ]
     },
     "execution_count": 37,
     "metadata": {},
     "output_type": "execute_result"
    }
   ],
   "source": [
    "df.duplicated().sum()"
   ]
  },
  {
   "cell_type": "code",
   "execution_count": 39,
   "metadata": {},
   "outputs": [],
   "source": [
    "import tensorflow as tf\n",
    "from tensorflow.keras.models import Sequential\n",
    "from tensorflow.keras.layers import Dense, Dropout\n",
    "from tensorflow.keras.optimizers import Adam\n",
    "from tensorflow.keras.losses import SparseCategoricalCrossentropy, mean_squared_error\n",
    "from tensorflow.keras.regularizers import l2\n",
    "from tensorflow.keras.callbacks import EarlyStopping"
   ]
  },
  {
   "cell_type": "code",
   "execution_count": 46,
   "metadata": {},
   "outputs": [
    {
     "name": "stdout",
     "output_type": "stream",
     "text": [
      "Epoch 1/10\n",
      "WARNING:tensorflow:From c:\\Users\\Rohan\\anaconda3\\Lib\\site-packages\\keras\\src\\utils\\tf_utils.py:492: The name tf.ragged.RaggedTensorValue is deprecated. Please use tf.compat.v1.ragged.RaggedTensorValue instead.\n",
      "\n",
      "WARNING:tensorflow:From c:\\Users\\Rohan\\anaconda3\\Lib\\site-packages\\keras\\src\\engine\\base_layer_utils.py:384: The name tf.executing_eagerly_outside_functions is deprecated. Please use tf.compat.v1.executing_eagerly_outside_functions instead.\n",
      "\n",
      "17/17 [==============================] - 2s 23ms/step - loss: 948867.1250 - accuracy: 0.0000e+00 - val_loss: 528235.0625 - val_accuracy: 0.0000e+00\n",
      "Epoch 2/10\n",
      "17/17 [==============================] - 0s 5ms/step - loss: 948866.9375 - accuracy: 0.0000e+00 - val_loss: 528234.9375 - val_accuracy: 0.0000e+00\n",
      "Epoch 3/10\n",
      "17/17 [==============================] - 0s 5ms/step - loss: 948866.6250 - accuracy: 0.0000e+00 - val_loss: 528234.8125 - val_accuracy: 0.0000e+00\n",
      "Epoch 4/10\n",
      "17/17 [==============================] - 0s 6ms/step - loss: 948866.5625 - accuracy: 0.0000e+00 - val_loss: 528234.6250 - val_accuracy: 0.0000e+00\n",
      "Epoch 5/10\n",
      "17/17 [==============================] - 0s 6ms/step - loss: 948866.5000 - accuracy: 0.0000e+00 - val_loss: 528234.5625 - val_accuracy: 0.0000e+00\n",
      "Epoch 6/10\n",
      "17/17 [==============================] - 0s 5ms/step - loss: 948866.4375 - accuracy: 0.0000e+00 - val_loss: 528234.5000 - val_accuracy: 0.0000e+00\n",
      "Epoch 7/10\n",
      "17/17 [==============================] - 0s 5ms/step - loss: 948866.2500 - accuracy: 0.0000e+00 - val_loss: 528234.5000 - val_accuracy: 0.0000e+00\n",
      "Epoch 8/10\n",
      "17/17 [==============================] - 0s 5ms/step - loss: 948866.3125 - accuracy: 0.0000e+00 - val_loss: 528234.5000 - val_accuracy: 0.0000e+00\n",
      "3/3 [==============================] - 0s 3ms/step - loss: 360210.8438 - accuracy: 0.0000e+00\n",
      "Test accuracy: 0.0\n"
     ]
    }
   ],
   "source": [
    "model = Sequential([\n",
    "    Dense(128, activation='relu', input_shape=(8,), kernel_regularizer=l2(0.01)),\n",
    "    Dropout(0.5),\n",
    "    Dense(64, activation='relu', kernel_regularizer=l2(0.01)),\n",
    "    Dropout(0.5),\n",
    "    Dense(10, activation='softmax')\n",
    "])\n",
    "\n",
    "model.compile(optimizer=Adam(),\n",
    "              loss=mean_squared_error,\n",
    "              metrics=['accuracy'])\n",
    "\n",
    "early_stopping = EarlyStopping(monitor='val_loss', patience=2, restore_best_weights=True)\n",
    "model.fit(X_train, y_train, epochs=10, batch_size=32, validation_split=0.2, callbacks=[early_stopping])\n",
    "\n",
    "test_loss, test_acc = model.evaluate(X_test, y_test)\n",
    "print(f'Test accuracy: {test_acc}')"
   ]
  },
  {
   "cell_type": "code",
   "execution_count": null,
   "metadata": {},
   "outputs": [],
   "source": [
    "import optuna\n",
    "import tensorflow as tf\n",
    "from tensorflow.keras.models import Sequential\n",
    "from tensorflow.keras.layers import Dense, Dropout\n",
    "from tensorflow.keras.regularizers import l2\n",
    "from tensorflow.keras.optimizers import Adam\n",
    "from tensorflow.keras.callbacks import EarlyStopping\n",
    "from tensorflow.keras.losses import MeanSquaredError\n",
    "from sklearn.model_selection import train_test_split\n",
    "\n",
    "def create_model(trial):\n",
    "    # Define the architecture and hyperparameters\n",
    "    n_layers = trial.suggest_int('n_layers', 1, 3)\n",
    "    units = trial.suggest_int('units', 32, 128)\n",
    "    dropout_rate = trial.suggest_float('dropout_rate', 0.2, 0.5)\n",
    "    l2_reg = trial.suggest_float('l2_reg', 1e-4, 1e-2)\n",
    "    learning_rate = trial.suggest_float('learning_rate', 1e-4, 1e-2)\n",
    "\n",
    "    model = Sequential()\n",
    "    model.add(Dense(units, activation='relu', input_shape=(X_train.shape[1],), kernel_regularizer=l2(l2_reg)))\n",
    "    model.add(Dropout(dropout_rate))\n",
    "\n",
    "    for i in range(n_layers):\n",
    "        model.add(Dense(units, activation='relu', kernel_regularizer=l2(l2_reg)))\n",
    "        model.add(Dropout(dropout_rate))\n",
    "\n",
    "    model.add(Dense(10, activation='softmax'))\n",
    "\n",
    "    # Compile the model\n",
    "    optimizer = Adam(learning_rate=learning_rate)\n",
    "    model.compile(optimizer=optimizer,\n",
    "                  loss=MeanSquaredError(),\n",
    "                  metrics=['accuracy'])\n",
    "\n",
    "    return model\n",
    "\n",
    "def objective(trial):\n",
    "    model = create_model(trial)\n",
    "\n",
    "    early_stopping = EarlyStopping(monitor='val_loss', patience=2, restore_best_weights=True)\n",
    "\n",
    "    # Train the model\n",
    "    history = model.fit(X_train, y_train,\n",
    "                        epochs=10,\n",
    "                        batch_size=32,\n",
    "                        validation_split=0.2,\n",
    "                        callbacks=[early_stopping],\n",
    "                        verbose=0)\n",
    "\n",
    "    # Evaluate the model\n",
    "    score = model.evaluate(X_test, y_test, verbose=0)\n",
    "    return score[1]  # Return accuracy as the objective\n",
    "\n",
    "# Split data into training and testing sets if not already done\n",
    "X_train, X_test, y_train, y_test = train_test_split(X, y, test_size=0.2, random_state=42)\n",
    "\n",
    "# Run the study\n",
    "study = optuna.create_study(direction='maximize')\n",
    "study.optimize(objective, n_trials=50)\n",
    "\n",
    "# Best hyperparameters\n",
    "print(f'Best trial: {study.best_trial.params}')\n",
    "\n",
    "# Test the best model\n",
    "best_model = create_model(study.best_trial)\n",
    "early_stopping = EarlyStopping(monitor='val_loss', patience=2, restore_best_weights=True)\n",
    "best_model.fit(X_train, y_train, epochs=10, batch_size=32, validation_split=0.2, callbacks=[early_stopping])\n",
    "\n",
    "test_loss, test_acc = best_model.evaluate(X_test, y_test)\n",
    "print(f'Test accuracy: {test_acc}')\n"
   ]
  },
  {
   "cell_type": "code",
   "execution_count": null,
   "metadata": {},
   "outputs": [],
   "source": [
    "# import networkx as nx\n",
    "# import matplotlib.pyplot as plt\n",
    "\n",
    "# def visualize_model(model):\n",
    "#     G = nx.DiGraph()\n",
    "#     for i, layer in enumerate(model.layers):\n",
    "#         layer_name = f\"{layer.__class__.__name__}\\n({layer.output_shape})\"\n",
    "#         G.add_node(i, label=layer_name)\n",
    "#         if i > 0:\n",
    "#             G.add_edge(i-1, i)\n",
    "    \n",
    "#     pos = nx.spring_layout(G)\n",
    "#     plt.figure(figsize=(12, 8))\n",
    "#     nx.draw(G, pos, with_labels=False, node_size=4000, node_color='skyblue', node_shape='o', alpha=0.9, linewidths=40)\n",
    "    \n",
    "#     labels = nx.get_node_attributes(G, 'label')\n",
    "#     nx.draw_networkx_labels(G, pos, labels, font_size=10)\n",
    "    \n",
    "#     plt.title(\"Model Architecture\", size=15)\n",
    "#     plt.show()\n",
    "\n",
    "# visualize_model(model)"
   ]
  },
  {
   "cell_type": "code",
   "execution_count": 55,
   "metadata": {},
   "outputs": [
    {
     "name": "stdout",
     "output_type": "stream",
     "text": [
      "Model: \"sequential_8\"\n",
      "_________________________________________________________________\n",
      " Layer (type)                Output Shape              Param #   \n",
      "=================================================================\n",
      " dense_24 (Dense)            (None, 128)               1152      \n",
      "                                                                 \n",
      " dropout_16 (Dropout)        (None, 128)               0         \n",
      "                                                                 \n",
      " dense_25 (Dense)            (None, 64)                8256      \n",
      "                                                                 \n",
      " dropout_17 (Dropout)        (None, 64)                0         \n",
      "                                                                 \n",
      " dense_26 (Dense)            (None, 10)                650       \n",
      "                                                                 \n",
      "=================================================================\n",
      "Total params: 10058 (39.29 KB)\n",
      "Trainable params: 10058 (39.29 KB)\n",
      "Non-trainable params: 0 (0.00 Byte)\n",
      "_________________________________________________________________\n"
     ]
    }
   ],
   "source": [
    "model.summary()"
   ]
  },
  {
   "cell_type": "code",
   "execution_count": null,
   "metadata": {},
   "outputs": [],
   "source": []
  }
 ],
 "metadata": {
  "kernelspec": {
   "display_name": "base",
   "language": "python",
   "name": "python3"
  },
  "language_info": {
   "codemirror_mode": {
    "name": "ipython",
    "version": 3
   },
   "file_extension": ".py",
   "mimetype": "text/x-python",
   "name": "python",
   "nbconvert_exporter": "python",
   "pygments_lexer": "ipython3",
   "version": "3.11.5"
  }
 },
 "nbformat": 4,
 "nbformat_minor": 2
}
